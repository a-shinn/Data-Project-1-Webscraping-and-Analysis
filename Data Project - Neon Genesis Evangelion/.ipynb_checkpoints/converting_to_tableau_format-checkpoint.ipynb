{
 "cells": [
  {
   "cell_type": "code",
   "execution_count": 1,
   "id": "ff14017a",
   "metadata": {},
   "outputs": [],
   "source": [
    "import pandas as pd\n",
    "import numpy as np"
   ]
  },
  {
   "cell_type": "markdown",
   "id": "cd18f137",
   "metadata": {},
   "source": [
    "Converting data from wide to long for easier Tableau visualization"
   ]
  },
  {
   "cell_type": "code",
   "execution_count": 2,
   "id": "38ec371a",
   "metadata": {},
   "outputs": [],
   "source": [
    "# importing datasets from saved JSON files\n",
    "entire_series = pd.read_json('src/NGE_entire_series.json')\n",
    "by_episode = pd.read_json('src/NGE_by_episode.json')"
   ]
  },
  {
   "cell_type": "code",
   "execution_count": 5,
   "id": "6f43e560",
   "metadata": {},
   "outputs": [
    {
     "data": {
      "text/plain": [
       "1     {'Lines': ['Aircraft: Ah!  '], 'Line Count': 1...\n",
       "2                                                  None\n",
       "3                                                  None\n",
       "4                                                  None\n",
       "5                                                  None\n",
       "6                                                  None\n",
       "7                                                  None\n",
       "8                                                  None\n",
       "9                                                  None\n",
       "10                                                 None\n",
       "11                                                 None\n",
       "12                                                 None\n",
       "13                                                 None\n",
       "14                                                 None\n",
       "15                                                 None\n",
       "16                                                 None\n",
       "17                                                 None\n",
       "18                                                 None\n",
       "19                                                 None\n",
       "20                                                 None\n",
       "21                                                 None\n",
       "22                                                 None\n",
       "23                                                 None\n",
       "24                                                 None\n",
       "25                                                 None\n",
       "26                                                 None\n",
       "Name: Aircraft, dtype: object"
      ]
     },
     "execution_count": 5,
     "metadata": {},
     "output_type": "execute_result"
    }
   ],
   "source": [
    "by_episode.T['Aircraft']"
   ]
  },
  {
   "cell_type": "code",
   "execution_count": 60,
   "id": "0fc9180e",
   "metadata": {},
   "outputs": [],
   "source": [
    "def get_long(name):\n",
    "    df = pd.json_normalize(by_episode.T[name])\n",
    "    df['Index'] = pd.Index(range(1,27))\n",
    "    df.set_index('Index', inplace=True)\n",
    "    #\n",
    "    dfm = df.melt(ignore_index=False)\n",
    "    return dfm"
   ]
  },
  {
   "cell_type": "code",
   "execution_count": 86,
   "id": "f65b518c",
   "metadata": {},
   "outputs": [
    {
     "data": {
      "text/html": [
       "<div>\n",
       "<style scoped>\n",
       "    .dataframe tbody tr th:only-of-type {\n",
       "        vertical-align: middle;\n",
       "    }\n",
       "\n",
       "    .dataframe tbody tr th {\n",
       "        vertical-align: top;\n",
       "    }\n",
       "\n",
       "    .dataframe thead th {\n",
       "        text-align: right;\n",
       "    }\n",
       "</style>\n",
       "<table border=\"1\" class=\"dataframe\">\n",
       "  <thead>\n",
       "    <tr style=\"text-align: right;\">\n",
       "      <th></th>\n",
       "      <th>variable</th>\n",
       "      <th>value</th>\n",
       "    </tr>\n",
       "    <tr>\n",
       "      <th>Index</th>\n",
       "      <th></th>\n",
       "      <th></th>\n",
       "    </tr>\n",
       "  </thead>\n",
       "  <tbody>\n",
       "    <tr>\n",
       "      <th>10</th>\n",
       "      <td>Lines</td>\n",
       "      <td>[Shinji: How come you can solve this, while yo...</td>\n",
       "    </tr>\n",
       "    <tr>\n",
       "      <th>10</th>\n",
       "      <td>Line Count</td>\n",
       "      <td>3.0</td>\n",
       "    </tr>\n",
       "    <tr>\n",
       "      <th>10</th>\n",
       "      <td>Word Count</td>\n",
       "      <td>58.0</td>\n",
       "    </tr>\n",
       "    <tr>\n",
       "      <th>10</th>\n",
       "      <td>Lines</td>\n",
       "      <td>[Asuka:  Oh, you are an old man, out-of-date. ...</td>\n",
       "    </tr>\n",
       "    <tr>\n",
       "      <th>10</th>\n",
       "      <td>Line Count</td>\n",
       "      <td>25.0</td>\n",
       "    </tr>\n",
       "    <tr>\n",
       "      <th>10</th>\n",
       "      <td>Word Count</td>\n",
       "      <td>366.0</td>\n",
       "    </tr>\n",
       "  </tbody>\n",
       "</table>\n",
       "</div>"
      ],
      "text/plain": [
       "         variable                                              value\n",
       "Index                                                               \n",
       "10          Lines  [Shinji: How come you can solve this, while yo...\n",
       "10     Line Count                                                3.0\n",
       "10     Word Count                                               58.0\n",
       "10          Lines  [Asuka:  Oh, you are an old man, out-of-date. ...\n",
       "10     Line Count                                               25.0\n",
       "10     Word Count                                              366.0"
      ]
     },
     "execution_count": 86,
     "metadata": {},
     "output_type": "execute_result"
    }
   ],
   "source": [
    "pd.concat([get_long('Shinji'),get_long('Asuka')]).loc[10]"
   ]
  }
 ],
 "metadata": {
  "kernelspec": {
   "display_name": "Python 3 (ipykernel)",
   "language": "python",
   "name": "python3"
  },
  "language_info": {
   "codemirror_mode": {
    "name": "ipython",
    "version": 3
   },
   "file_extension": ".py",
   "mimetype": "text/x-python",
   "name": "python",
   "nbconvert_exporter": "python",
   "pygments_lexer": "ipython3",
   "version": "3.10.9"
  }
 },
 "nbformat": 4,
 "nbformat_minor": 5
}
